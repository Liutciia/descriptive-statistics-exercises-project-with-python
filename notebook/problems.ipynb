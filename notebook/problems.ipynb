{
    "cells": [
        {
            "cell_type": "markdown",
            "id": "ac622319",
            "metadata": {},
            "source": [
                "# Descriptive statistics problems"
            ]
        },
        {
            "cell_type": "markdown",
            "id": "5e0ab0d5",
            "metadata": {},
            "source": [
                "### Exercise 1\n",
                "\n",
                "We will use NumPy to obtain information to describe statistically.\n",
                "\n",
                "- Generate an array of 100 elements following a normal distribution.\n",
                "- Generate an array of 100 elements following a chi-square distribution with 3 degrees of freedom.\n",
                "- Calculate the main metrics and statistical measures that best describe the two vectors."
            ]
        },
        {
            "cell_type": "code",
            "execution_count": 5,
            "id": "34720ab6",
            "metadata": {},
            "outputs": [
                {
                    "name": "stdout",
                    "output_type": "stream",
                    "text": [
                        "[ 0.20240846 -0.17663706 -0.00854297  0.64373054 -0.44453289  0.46914859\n",
                        "  2.93681948 -0.32590704  1.75429253 -0.95547342  0.1381104   1.68626195\n",
                        "  0.26085688 -0.91573045 -0.04845468  0.21375139  1.13377771 -1.41196415\n",
                        "  0.35894876 -0.21178662  0.40996724 -0.73753567 -0.3330435  -0.26326877\n",
                        "  0.58860679  0.73228063 -0.00533732 -0.96054683 -1.28896075  1.76657244\n",
                        "  0.39606769 -0.51641419 -2.70699853 -0.13626333  1.03766344 -0.45097852\n",
                        " -1.00434678 -0.54986632  0.56937611 -0.93042619 -0.10621648 -0.16546974\n",
                        "  1.62346019  0.3932681  -2.51964115 -0.49777923  0.32954157 -0.16331644\n",
                        " -1.02588996 -0.91971293 -0.0107938  -0.02673967 -0.48083855 -1.59999226\n",
                        " -0.71207871 -1.3752141  -0.11481815  1.00346521 -0.7743005   0.85556158\n",
                        "  0.9914104   1.38668285 -1.15928545  0.2595556   1.15961337  1.89466298\n",
                        " -0.3190241  -2.76121994 -0.15395127 -0.36926206 -0.76484154  1.8125727\n",
                        "  0.999848   -1.28685288  1.16723587  1.75939258 -0.83521091  1.46638229\n",
                        " -0.40819142  0.04371608  0.55863593 -1.098843    1.35596645 -1.2079403\n",
                        "  2.49334821  0.89831613 -0.53419641  0.05730272 -1.27297285 -1.00111459\n",
                        " -0.96291722 -0.71186313 -1.08264474 -0.4857234  -1.46130593  0.52469045\n",
                        "  0.21058891 -0.02072237 -2.59685623 -0.69587699]\n",
                        "[ 0.69090435  1.40495335  2.4109973  13.12670429  7.51534201 12.62418249\n",
                        "  1.92170272  3.84023122  2.96071944  3.58207208  1.31742793  2.62572131\n",
                        "  3.26765174  0.81091506  1.35259329  1.18286148  3.30492039  3.28146662\n",
                        "  7.5978244   1.41144362  0.7789599   1.25846154  0.9179425   2.972816\n",
                        "  2.83534115  8.96703433  1.02448637  3.24220652  2.34873035  3.13224836\n",
                        "  0.65393029  2.30438505  3.72524217  4.68850963  3.44429702  3.07783479\n",
                        "  1.20407363  3.25119924  1.72610082  1.79886202  0.24385959  5.93669248\n",
                        "  1.84302306  2.90737693  0.03654051  1.47996888  5.52456746  5.49153568\n",
                        "  2.06297165  1.34665481  0.40427984 10.0569049   3.20870026  8.1562399\n",
                        "  0.21866162  2.5737347   7.08777711  4.11659583  0.93096541  3.85247711\n",
                        "  0.71088667  2.13214388  1.57200585  1.51154936  5.88135624  8.5516717\n",
                        "  0.20902597  1.83742342  0.63017931  0.13667527  3.93484383  0.84810143\n",
                        "  2.22862262  4.1895708   0.50058252  0.34836946  4.29569199  0.90176008\n",
                        "  4.44773622  1.79202853  0.21696395  9.46298275  3.39553387  2.40147118\n",
                        "  1.40476198  3.74137143  1.89498474  2.64044549  2.15453248  1.95296244\n",
                        "  3.55030262  4.98339942  0.59766829  0.39042848  1.38038402  0.52839417\n",
                        "  1.49087161  4.11615135  2.28213315  1.58078518]\n"
                    ]
                }
            ],
            "source": [
                "import numpy as np\n",
                "\n",
                "array_normal = np.random.normal(size=100)\n",
                "\n",
                "array_chi_square = np.random.chisquare(size=100,df=3)\n",
                "\n",
                "print(array_normal)\n",
                "print(array_chi_square)"
            ]
        },
        {
            "cell_type": "code",
            "execution_count": 6,
            "id": "bcf4ae00",
            "metadata": {},
            "outputs": [
                {
                    "name": "stdout",
                    "output_type": "stream",
                    "text": [
                        "Normal mean: -0.03316949728528471\n",
                        "Normal median: -0.07862751332237658\n",
                        "Normal variance; 0.9550499757830013\n",
                        "Normal standard deviation: 0.9772665837851008\n",
                        "Normal skewness: -0.2571554626831509\n",
                        "Normal kurtosis: 0.39808109822740256\n",
                        "Chi-square mean: 2.9099812936905622\n",
                        "Chi-square median: 2.341497465133138\n",
                        "Chi-square variance: 6.368612747712192\n",
                        "Chi-square standard deviation: 2.523611053176022\n",
                        "Chi-square skewness: 1.97750549570564\n",
                        "Chi-square kurtosis: 5.321614748707336\n"
                    ]
                }
            ],
            "source": [
                "import numpy as np\n",
                "from scipy.stats import skew, kurtosis\n",
                "\n",
                "# Main metrics and statistical measures for the normal array\n",
                "array_normal = np.random.normal(size=100)\n",
                "\n",
                "mean_normal = np.mean(array_normal)\n",
                "median_normal = np.median(array_normal)\n",
                "variance_normal = np.var(array_normal)\n",
                "std_dev_normal = np.std(array_normal)\n",
                "skewness_normal = skew(array_normal)\n",
                "kurtosis_normal = kurtosis(array_normal)\n",
                "\n",
                "print(f\"Normal mean:\", mean_normal)\n",
                "print(f\"Normal median:\", median_normal)\n",
                "print(f\"Normal variance;\", variance_normal)\n",
                "print(f\"Normal standard deviation:\", std_dev_normal)\n",
                "print(f\"Normal skewness:\", skewness_normal)\n",
                "print(f\"Normal kurtosis:\", kurtosis_normal)\n",
                "\n",
                "# Main metrics and statistical measures for the chi-square array\n",
                "array_chi_square = np.random.chisquare(size=100,df=3)\n",
                "\n",
                "mean_chi_square = np.mean(array_chi_square)\n",
                "median_chi_square = np.median(array_chi_square)\n",
                "variance_chi_square = np.var(array_chi_square)\n",
                "std_dev_chi_square = np.std(array_chi_square)\n",
                "skewness_chi_square = skew(array_chi_square)\n",
                "kurtosis_chi_square = kurtosis(array_chi_square)\n",
                "\n",
                "print(f\"Chi-square mean:\", mean_chi_square)\n",
                "print(f\"Chi-square median:\", median_chi_square)\n",
                "print(f\"Chi-square variance:\", variance_chi_square)\n",
                "print(f\"Chi-square standard deviation:\", std_dev_chi_square)\n",
                "print(f\"Chi-square skewness:\", skewness_chi_square)\n",
                "print(f\"Chi-square kurtosis:\", kurtosis_chi_square)\n"
            ]
        },
        {
            "cell_type": "markdown",
            "id": "46c70c3d",
            "metadata": {},
            "source": [
                "### Exercise 2\n",
                "\n",
                "Write a Python program to calculate the standard deviation of the following data:\n",
                "\n",
                "```py\n",
                "data = [4, 2, 5, 8, 6]\n",
                "```"
            ]
        },
        {
            "cell_type": "code",
            "execution_count": 7,
            "id": "d590308e",
            "metadata": {},
            "outputs": [
                {
                    "name": "stdout",
                    "output_type": "stream",
                    "text": [
                        "Standard Deviation: 2.0\n"
                    ]
                }
            ],
            "source": [
                "import math\n",
                "\n",
                "data = [4, 2, 5, 8, 6]\n",
                "\n",
                "mean = sum(data) / len(data)\n",
                "\n",
                "squared_diff_sum = sum((x-mean)**2 for x in data)\n",
                "standard_deviation = math.sqrt(squared_diff_sum /len(data))\n",
                "\n",
                "print(\"Standard Deviation:\", standard_deviation)"
            ]
        }
    ],
    "metadata": {
        "interpreter": {
            "hash": "9248718ffe6ce6938b217e69dbcc175ea21f4c6b28a317e96c05334edae734bb"
        },
        "kernelspec": {
            "display_name": "Python 3.9.12 ('ML-BOOTCAMP')",
            "language": "python",
            "name": "python3"
        },
        "language_info": {
            "codemirror_mode": {
                "name": "ipython",
                "version": 3
            },
            "file_extension": ".py",
            "mimetype": "text/x-python",
            "name": "python",
            "nbconvert_exporter": "python",
            "pygments_lexer": "ipython3",
            "version": "3.11.4"
        }
    },
    "nbformat": 4,
    "nbformat_minor": 5
}
